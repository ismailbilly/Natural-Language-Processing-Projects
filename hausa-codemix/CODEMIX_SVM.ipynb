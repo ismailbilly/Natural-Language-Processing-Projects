{
 "cells": [
  {
   "cell_type": "code",
   "execution_count": 7,
   "id": "d08dd26a",
   "metadata": {},
   "outputs": [],
   "source": [
    "import numpy as np\n",
    "import sklearn\n",
    "from sklearn import preprocessing, svm\n",
    "from sklearn.model_selection import train_test_split\n",
    "from sklearn.feature_extraction.text import CountVectorizer, TfidfTransformer\n",
    "from sklearn.feature_extraction.text import TfidfVectorizer\n",
    "from sklearn.metrics import accuracy_score\n",
    "\n",
    "from sklearn.metrics import f1_score\n",
    "from sklearn.svm import SVC\n",
    "from sklearn.metrics import classification_report\n",
    "import pandas as pd"
   ]
  },
  {
   "cell_type": "code",
   "execution_count": 8,
   "id": "8e4858ec",
   "metadata": {},
   "outputs": [],
   "source": [
    "train =pd.read_table(r\"C:\\Users\\Billy\\Desktop\\train (1).tsv\", delimiter='\\t')\n",
    "test= pd.read_table(r\"C:\\Users\\Billy\\Desktop\\test (1).tsv\")"
   ]
  },
  {
   "cell_type": "code",
   "execution_count": 15,
   "id": "5186eb6f",
   "metadata": {},
   "outputs": [
    {
     "name": "stdout",
     "output_type": "stream",
     "text": [
      "  (0, 831)\t0.25927480521255136\n",
      "  (0, 946)\t0.2247620457945437\n",
      "  (0, 228)\t0.25327072091436176\n",
      "  (0, 926)\t0.2986572969386727\n",
      "  (0, 173)\t0.1107363491008755\n",
      "  (0, 421)\t0.29064370137849155\n",
      "  (0, 797)\t0.1796990464882497\n",
      "  (0, 853)\t0.25052882799807435\n",
      "  (0, 71)\t0.24499735901601125\n",
      "  (0, 409)\t0.2958347142362302\n",
      "  (0, 251)\t0.2750331671699769\n",
      "  (0, 675)\t0.31810748516181897\n",
      "  (0, 473)\t0.21443309145747186\n",
      "  (0, 325)\t0.22831701015128195\n",
      "  (0, 229)\t0.2351557698515768\n",
      "  (0, 956)\t0.2435932568288786\n",
      "  (1, 487)\t0.28693497584970934\n",
      "  (1, 708)\t0.15570742492583498\n",
      "  (1, 341)\t0.24442719333614155\n",
      "  (1, 214)\t0.3436684508658405\n",
      "  (1, 264)\t0.4180141359400869\n",
      "  (1, 449)\t0.22304449785291602\n",
      "  (1, 613)\t0.15710536090020208\n",
      "  (1, 342)\t0.3056217427403465\n",
      "  (1, 411)\t0.20056147920891845\n",
      "  :\t:\n",
      "  (6135, 190)\t0.2879692483246246\n",
      "  (6135, 586)\t0.3122251011393846\n",
      "  (6135, 682)\t0.3197568867585962\n",
      "  (6135, 180)\t0.22585733016428355\n",
      "  (6135, 580)\t0.22296536828091967\n",
      "  (6135, 929)\t0.2829276776518469\n",
      "  (6135, 11)\t0.2819789120675821\n",
      "  (6135, 159)\t0.24319938182075776\n",
      "  (6135, 234)\t0.2066458640408103\n",
      "  (6135, 890)\t0.16975755260154698\n",
      "  (6135, 885)\t0.23255220044036495\n",
      "  (6135, 45)\t0.3678249133477206\n",
      "  (6135, 173)\t0.11279046460479605\n",
      "  (6135, 797)\t0.1830323927691082\n",
      "  (6135, 409)\t0.3013223312476686\n",
      "  (6136, 201)\t0.370774587889798\n",
      "  (6136, 939)\t0.389175100747623\n",
      "  (6136, 550)\t0.3462413669706004\n",
      "  (6136, 651)\t0.6510456350888809\n",
      "  (6136, 62)\t0.24489231580271784\n",
      "  (6136, 45)\t0.3276479763771718\n",
      "  (6137, 452)\t0.5563523454851907\n",
      "  (6137, 277)\t0.6158413167072281\n",
      "  (6137, 45)\t0.31047471866894366\n",
      "  (6137, 797)\t0.4634835373310199\n"
     ]
    }
   ],
   "source": [
    "# Step 3: Feature Extraction\n",
    "tfidf_vectorizer = TfidfVectorizer(max_features=1000)  # You can adjust the number of features\n",
    "X = tfidf_vectorizer.fit_transform(train['text']) \n",
    "print(X)"
   ]
  },
  {
   "cell_type": "code",
   "execution_count": 12,
   "id": "3b65984b",
   "metadata": {},
   "outputs": [],
   "source": [
    "# Step 4: Split the data into training and testing sets\n",
    "X_train, X_test, y_train, y_test = train_test_split(X, train['label'], test_size=0.2, random_state=42)"
   ]
  },
  {
   "cell_type": "code",
   "execution_count": 20,
   "id": "09273cc9",
   "metadata": {},
   "outputs": [
    {
     "data": {
      "text/html": [
       "<style>#sk-container-id-3 {color: black;background-color: white;}#sk-container-id-3 pre{padding: 0;}#sk-container-id-3 div.sk-toggleable {background-color: white;}#sk-container-id-3 label.sk-toggleable__label {cursor: pointer;display: block;width: 100%;margin-bottom: 0;padding: 0.3em;box-sizing: border-box;text-align: center;}#sk-container-id-3 label.sk-toggleable__label-arrow:before {content: \"▸\";float: left;margin-right: 0.25em;color: #696969;}#sk-container-id-3 label.sk-toggleable__label-arrow:hover:before {color: black;}#sk-container-id-3 div.sk-estimator:hover label.sk-toggleable__label-arrow:before {color: black;}#sk-container-id-3 div.sk-toggleable__content {max-height: 0;max-width: 0;overflow: hidden;text-align: left;background-color: #f0f8ff;}#sk-container-id-3 div.sk-toggleable__content pre {margin: 0.2em;color: black;border-radius: 0.25em;background-color: #f0f8ff;}#sk-container-id-3 input.sk-toggleable__control:checked~div.sk-toggleable__content {max-height: 200px;max-width: 100%;overflow: auto;}#sk-container-id-3 input.sk-toggleable__control:checked~label.sk-toggleable__label-arrow:before {content: \"▾\";}#sk-container-id-3 div.sk-estimator input.sk-toggleable__control:checked~label.sk-toggleable__label {background-color: #d4ebff;}#sk-container-id-3 div.sk-label input.sk-toggleable__control:checked~label.sk-toggleable__label {background-color: #d4ebff;}#sk-container-id-3 input.sk-hidden--visually {border: 0;clip: rect(1px 1px 1px 1px);clip: rect(1px, 1px, 1px, 1px);height: 1px;margin: -1px;overflow: hidden;padding: 0;position: absolute;width: 1px;}#sk-container-id-3 div.sk-estimator {font-family: monospace;background-color: #f0f8ff;border: 1px dotted black;border-radius: 0.25em;box-sizing: border-box;margin-bottom: 0.5em;}#sk-container-id-3 div.sk-estimator:hover {background-color: #d4ebff;}#sk-container-id-3 div.sk-parallel-item::after {content: \"\";width: 100%;border-bottom: 1px solid gray;flex-grow: 1;}#sk-container-id-3 div.sk-label:hover label.sk-toggleable__label {background-color: #d4ebff;}#sk-container-id-3 div.sk-serial::before {content: \"\";position: absolute;border-left: 1px solid gray;box-sizing: border-box;top: 0;bottom: 0;left: 50%;z-index: 0;}#sk-container-id-3 div.sk-serial {display: flex;flex-direction: column;align-items: center;background-color: white;padding-right: 0.2em;padding-left: 0.2em;position: relative;}#sk-container-id-3 div.sk-item {position: relative;z-index: 1;}#sk-container-id-3 div.sk-parallel {display: flex;align-items: stretch;justify-content: center;background-color: white;position: relative;}#sk-container-id-3 div.sk-item::before, #sk-container-id-3 div.sk-parallel-item::before {content: \"\";position: absolute;border-left: 1px solid gray;box-sizing: border-box;top: 0;bottom: 0;left: 50%;z-index: -1;}#sk-container-id-3 div.sk-parallel-item {display: flex;flex-direction: column;z-index: 1;position: relative;background-color: white;}#sk-container-id-3 div.sk-parallel-item:first-child::after {align-self: flex-end;width: 50%;}#sk-container-id-3 div.sk-parallel-item:last-child::after {align-self: flex-start;width: 50%;}#sk-container-id-3 div.sk-parallel-item:only-child::after {width: 0;}#sk-container-id-3 div.sk-dashed-wrapped {border: 1px dashed gray;margin: 0 0.4em 0.5em 0.4em;box-sizing: border-box;padding-bottom: 0.4em;background-color: white;}#sk-container-id-3 div.sk-label label {font-family: monospace;font-weight: bold;display: inline-block;line-height: 1.2em;}#sk-container-id-3 div.sk-label-container {text-align: center;}#sk-container-id-3 div.sk-container {/* jupyter's `normalize.less` sets `[hidden] { display: none; }` but bootstrap.min.css set `[hidden] { display: none !important; }` so we also need the `!important` here to be able to override the default hidden behavior on the sphinx rendered scikit-learn.org. See: https://github.com/scikit-learn/scikit-learn/issues/21755 */display: inline-block !important;position: relative;}#sk-container-id-3 div.sk-text-repr-fallback {display: none;}</style><div id=\"sk-container-id-3\" class=\"sk-top-container\"><div class=\"sk-text-repr-fallback\"><pre>SVC(kernel=&#x27;linear&#x27;)</pre><b>In a Jupyter environment, please rerun this cell to show the HTML representation or trust the notebook. <br />On GitHub, the HTML representation is unable to render, please try loading this page with nbviewer.org.</b></div><div class=\"sk-container\" hidden><div class=\"sk-item\"><div class=\"sk-estimator sk-toggleable\"><input class=\"sk-toggleable__control sk-hidden--visually\" id=\"sk-estimator-id-3\" type=\"checkbox\" checked><label for=\"sk-estimator-id-3\" class=\"sk-toggleable__label sk-toggleable__label-arrow\">SVC</label><div class=\"sk-toggleable__content\"><pre>SVC(kernel=&#x27;linear&#x27;)</pre></div></div></div></div></div>"
      ],
      "text/plain": [
       "SVC(kernel='linear')"
      ]
     },
     "execution_count": 20,
     "metadata": {},
     "output_type": "execute_result"
    }
   ],
   "source": [
    "# Step 5: Model Training\n",
    "svm_classifier = SVC(kernel='linear')\n",
    "svm_classifier.fit(X_train, y_train)"
   ]
  },
  {
   "cell_type": "code",
   "execution_count": 24,
   "id": "a33b3eb0",
   "metadata": {},
   "outputs": [
    {
     "data": {
      "text/plain": [
       "0.6506514657980456"
      ]
     },
     "execution_count": 24,
     "metadata": {},
     "output_type": "execute_result"
    }
   ],
   "source": [
    "# Step 6: Model Evaluation\n",
    "f1_score(y_test,y_pred, average='micro' )\n"
   ]
  },
  {
   "cell_type": "code",
   "execution_count": 25,
   "id": "8af36f4a",
   "metadata": {},
   "outputs": [
    {
     "name": "stdout",
     "output_type": "stream",
     "text": [
      "              precision    recall  f1-score   support\n",
      "\n",
      "    negative       0.62      0.55      0.58       397\n",
      "     neutral       0.56      0.70      0.62       394\n",
      "    positive       0.79      0.70      0.74       437\n",
      "\n",
      "    accuracy                           0.65      1228\n",
      "   macro avg       0.66      0.65      0.65      1228\n",
      "weighted avg       0.66      0.65      0.65      1228\n",
      "\n"
     ]
    }
   ],
   "source": [
    "y_pred = svm_classifier.predict(X_test)\n",
    "\n",
    "print(classification_report(y_test, y_pred))"
   ]
  },
  {
   "cell_type": "code",
   "execution_count": null,
   "id": "6f4cba49",
   "metadata": {},
   "outputs": [],
   "source": []
  }
 ],
 "metadata": {
  "kernelspec": {
   "display_name": "Python 3 (ipykernel)",
   "language": "python",
   "name": "python3"
  },
  "language_info": {
   "codemirror_mode": {
    "name": "ipython",
    "version": 3
   },
   "file_extension": ".py",
   "mimetype": "text/x-python",
   "name": "python",
   "nbconvert_exporter": "python",
   "pygments_lexer": "ipython3",
   "version": "3.10.9"
  }
 },
 "nbformat": 4,
 "nbformat_minor": 5
}
